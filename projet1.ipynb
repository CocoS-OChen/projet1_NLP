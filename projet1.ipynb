{
 "cells": [
  {
   "cell_type": "code",
   "execution_count": 1,
   "metadata": {},
   "outputs": [],
   "source": [
    "import nltk\n",
    "from nltk.corpus import stopwords\n",
    "from nltk.tokenize import word_tokenize\n",
    "from nltk.stem import WordNetLemmatizer\n",
    "from collections import defaultdict\n",
    "import numpy as np\n",
    "from gensim.models import Word2Vec\n",
    "from nltk.corpus import wordnet\n",
    "from rank_bm25 import BM25Okapi\n",
    "from sklearn.metrics.pairwise import cosine_similarity\n",
    "from sklearn.metrics import ndcg_score"
   ]
  },
  {
   "cell_type": "code",
   "execution_count": 17,
   "metadata": {},
   "outputs": [
    {
     "name": "stderr",
     "output_type": "stream",
     "text": [
      "fatal: destination path 'project1-2023' already exists and is not an empty directory.\n"
     ]
    }
   ],
   "source": [
    "# Clonage du répertoire Git contenant le corpus NFCorpus\n",
    "#!git clone https://github.com/cr-nlp/project1-2023.git"
   ]
  },
  {
   "cell_type": "code",
   "execution_count": 2,
   "metadata": {},
   "outputs": [
    {
     "name": "stderr",
     "output_type": "stream",
     "text": [
      "[nltk_data] Downloading package stopwords to\n",
      "[nltk_data]     C:\\Users\\cocog\\AppData\\Roaming\\nltk_data...\n",
      "[nltk_data]   Package stopwords is already up-to-date!\n",
      "[nltk_data] Downloading package punkt to\n",
      "[nltk_data]     C:\\Users\\cocog\\AppData\\Roaming\\nltk_data...\n",
      "[nltk_data]   Package punkt is already up-to-date!\n",
      "[nltk_data] Downloading package wordnet to\n",
      "[nltk_data]     C:\\Users\\cocog\\AppData\\Roaming\\nltk_data...\n",
      "[nltk_data]   Package wordnet is already up-to-date!\n",
      "[nltk_data] Downloading package averaged_perceptron_tagger to\n",
      "[nltk_data]     C:\\Users\\cocog\\AppData\\Roaming\\nltk_data...\n",
      "[nltk_data]   Package averaged_perceptron_tagger is already up-to-\n",
      "[nltk_data]       date!\n"
     ]
    }
   ],
   "source": [
    "# Téléchargement des ressources NLTK nécessaires\n",
    "nltk.download('stopwords')\n",
    "nltk.download('punkt')\n",
    "nltk.download('wordnet')\n",
    "nltk.download('averaged_perceptron_tagger')\n",
    "\n",
    "# Initialisation du lemmatiseur\n",
    "lemmatizer = WordNetLemmatizer()\n",
    "stop_words = set(stopwords.words('english'))"
   ]
  },
  {
   "cell_type": "code",
   "execution_count": 3,
   "metadata": {},
   "outputs": [],
   "source": [
    "\n",
    "\n",
    "def loadNFCorpus():\n",
    "    dir = \"./project1-2023/\"\n",
    "    \n",
    "    # Charger les documents\n",
    "    filename = dir + \"dev.docs\"\n",
    "    dicDoc = {}\n",
    "    with open(filename, encoding='utf-8') as file:\n",
    "        lines = file.readlines()\n",
    "    for line in lines:\n",
    "        tabLine = line.split('\\t')\n",
    "        key = tabLine[0]\n",
    "        value = tabLine[1]\n",
    "        dicDoc[key] = value\n",
    "\n",
    "    # Charger les requêtes\n",
    "    filename = dir + \"dev.all.queries\"\n",
    "    dicReq = {}\n",
    "    with open(filename, encoding='utf-8') as file:\n",
    "        lines = file.readlines()\n",
    "    for line in lines:\n",
    "        tabLine = line.split('\\t')\n",
    "        key = tabLine[0]\n",
    "        value = tabLine[1]\n",
    "        dicReq[key] = value\n",
    "\n",
    "    # Charger les scores de pertinence\n",
    "    filename = dir + \"dev.2-1-0.qrel\"\n",
    "    dicReqDoc = defaultdict(dict)\n",
    "    with open(filename, encoding='utf-8') as file:\n",
    "        lines = file.readlines()\n",
    "    for line in lines:\n",
    "        tabLine = line.strip().split('\\t')\n",
    "        req = tabLine[0]\n",
    "        doc = tabLine[2]\n",
    "        score = int(tabLine[3])\n",
    "        dicReqDoc[req][doc] = score\n",
    "\n",
    "    return dicDoc, dicReq, dicReqDoc\n",
    "\n",
    "def text2TokenList(text):\n",
    "    # Filtrage et lemmatisation des mots\n",
    "    stopwords_set = set(stopwords.words('english'))\n",
    "    word_tokens = word_tokenize(text.lower())\n",
    "    lemmatized_tokens = [\n",
    "        lemmatizer.lemmatize(word) for word in word_tokens\n",
    "        if word not in stopwords_set and len(word) > 2\n",
    "    ]\n",
    "    return lemmatized_tokens\n",
    "\n",
    "# Chargement du corpus NFCorpus\n",
    "dicDoc, dicReq, dicReqDoc = loadNFCorpus()\n"
   ]
  },
  {
   "cell_type": "code",
   "execution_count": 4,
   "metadata": {},
   "outputs": [
    {
     "ename": "NameError",
     "evalue": "name 'wordnet' is not defined",
     "output_type": "error",
     "traceback": [
      "\u001b[1;31m---------------------------------------------------------------------------\u001b[0m",
      "\u001b[1;31mNameError\u001b[0m                                 Traceback (most recent call last)",
      "\u001b[1;32mc:\\Users\\cocog\\OneDrive\\Documents\\ESILV\\S9\\Machine Learning NLP\\ProjetNLP1\\projet1.ipynb Cell 5\u001b[0m line \u001b[0;36m1\n\u001b[0;32m     <a href='vscode-notebook-cell:/c%3A/Users/cocog/OneDrive/Documents/ESILV/S9/Machine%20Learning%20NLP/ProjetNLP1/projet1.ipynb#W4sZmlsZQ%3D%3D?line=14'>15</a>\u001b[0m \u001b[39m# Exemple de prétraitement d'un document\u001b[39;00m\n\u001b[0;32m     <a href='vscode-notebook-cell:/c%3A/Users/cocog/OneDrive/Documents/ESILV/S9/Machine%20Learning%20NLP/ProjetNLP1/projet1.ipynb#W4sZmlsZQ%3D%3D?line=15'>16</a>\u001b[0m sample_doc \u001b[39m=\u001b[39m dicDoc[\u001b[39mlist\u001b[39m(dicDoc\u001b[39m.\u001b[39mkeys())[\u001b[39m0\u001b[39m]]\n\u001b[1;32m---> <a href='vscode-notebook-cell:/c%3A/Users/cocog/OneDrive/Documents/ESILV/S9/Machine%20Learning%20NLP/ProjetNLP1/projet1.ipynb#W4sZmlsZQ%3D%3D?line=16'>17</a>\u001b[0m preprocessed_sample \u001b[39m=\u001b[39m advanced_preprocess(sample_doc)\n\u001b[0;32m     <a href='vscode-notebook-cell:/c%3A/Users/cocog/OneDrive/Documents/ESILV/S9/Machine%20Learning%20NLP/ProjetNLP1/projet1.ipynb#W4sZmlsZQ%3D%3D?line=17'>18</a>\u001b[0m \u001b[39mprint\u001b[39m(preprocessed_sample)\n",
      "\u001b[1;32mc:\\Users\\cocog\\OneDrive\\Documents\\ESILV\\S9\\Machine Learning NLP\\ProjetNLP1\\projet1.ipynb Cell 5\u001b[0m line \u001b[0;36m1\n\u001b[0;32m     <a href='vscode-notebook-cell:/c%3A/Users/cocog/OneDrive/Documents/ESILV/S9/Machine%20Learning%20NLP/ProjetNLP1/projet1.ipynb#W4sZmlsZQ%3D%3D?line=9'>10</a>\u001b[0m \u001b[39mdef\u001b[39;00m \u001b[39madvanced_preprocess\u001b[39m(text):\n\u001b[0;32m     <a href='vscode-notebook-cell:/c%3A/Users/cocog/OneDrive/Documents/ESILV/S9/Machine%20Learning%20NLP/ProjetNLP1/projet1.ipynb#W4sZmlsZQ%3D%3D?line=10'>11</a>\u001b[0m     word_tokens \u001b[39m=\u001b[39m word_tokenize(text\u001b[39m.\u001b[39mlower())\n\u001b[1;32m---> <a href='vscode-notebook-cell:/c%3A/Users/cocog/OneDrive/Documents/ESILV/S9/Machine%20Learning%20NLP/ProjetNLP1/projet1.ipynb#W4sZmlsZQ%3D%3D?line=11'>12</a>\u001b[0m     filtered_words \u001b[39m=\u001b[39m [lemmatizer\u001b[39m.\u001b[39;49mlemmatize(w, get_wordnet_pos(w)) \u001b[39mfor\u001b[39;49;00m w \u001b[39min\u001b[39;49;00m word_tokens \u001b[39mif\u001b[39;49;00m w \u001b[39mnot\u001b[39;49;00m \u001b[39min\u001b[39;49;00m stop_words \u001b[39mand\u001b[39;49;00m \u001b[39mlen\u001b[39;49m(w) \u001b[39m>\u001b[39;49m \u001b[39m2\u001b[39;49m]\n\u001b[0;32m     <a href='vscode-notebook-cell:/c%3A/Users/cocog/OneDrive/Documents/ESILV/S9/Machine%20Learning%20NLP/ProjetNLP1/projet1.ipynb#W4sZmlsZQ%3D%3D?line=12'>13</a>\u001b[0m     \u001b[39mreturn\u001b[39;00m filtered_words\n",
      "\u001b[1;32mc:\\Users\\cocog\\OneDrive\\Documents\\ESILV\\S9\\Machine Learning NLP\\ProjetNLP1\\projet1.ipynb Cell 5\u001b[0m line \u001b[0;36m1\n\u001b[0;32m     <a href='vscode-notebook-cell:/c%3A/Users/cocog/OneDrive/Documents/ESILV/S9/Machine%20Learning%20NLP/ProjetNLP1/projet1.ipynb#W4sZmlsZQ%3D%3D?line=9'>10</a>\u001b[0m \u001b[39mdef\u001b[39;00m \u001b[39madvanced_preprocess\u001b[39m(text):\n\u001b[0;32m     <a href='vscode-notebook-cell:/c%3A/Users/cocog/OneDrive/Documents/ESILV/S9/Machine%20Learning%20NLP/ProjetNLP1/projet1.ipynb#W4sZmlsZQ%3D%3D?line=10'>11</a>\u001b[0m     word_tokens \u001b[39m=\u001b[39m word_tokenize(text\u001b[39m.\u001b[39mlower())\n\u001b[1;32m---> <a href='vscode-notebook-cell:/c%3A/Users/cocog/OneDrive/Documents/ESILV/S9/Machine%20Learning%20NLP/ProjetNLP1/projet1.ipynb#W4sZmlsZQ%3D%3D?line=11'>12</a>\u001b[0m     filtered_words \u001b[39m=\u001b[39m [lemmatizer\u001b[39m.\u001b[39mlemmatize(w, get_wordnet_pos(w)) \u001b[39mfor\u001b[39;00m w \u001b[39min\u001b[39;00m word_tokens \u001b[39mif\u001b[39;00m w \u001b[39mnot\u001b[39;00m \u001b[39min\u001b[39;00m stop_words \u001b[39mand\u001b[39;00m \u001b[39mlen\u001b[39m(w) \u001b[39m>\u001b[39m \u001b[39m2\u001b[39m]\n\u001b[0;32m     <a href='vscode-notebook-cell:/c%3A/Users/cocog/OneDrive/Documents/ESILV/S9/Machine%20Learning%20NLP/ProjetNLP1/projet1.ipynb#W4sZmlsZQ%3D%3D?line=12'>13</a>\u001b[0m     \u001b[39mreturn\u001b[39;00m filtered_words\n",
      "\u001b[1;32mc:\\Users\\cocog\\OneDrive\\Documents\\ESILV\\S9\\Machine Learning NLP\\ProjetNLP1\\projet1.ipynb Cell 5\u001b[0m line \u001b[0;36m4\n\u001b[0;32m      <a href='vscode-notebook-cell:/c%3A/Users/cocog/OneDrive/Documents/ESILV/S9/Machine%20Learning%20NLP/ProjetNLP1/projet1.ipynb#W4sZmlsZQ%3D%3D?line=1'>2</a>\u001b[0m \u001b[39m\u001b[39m\u001b[39m\"\"\"Fonction pour obtenir la nature d'un mot pour la lemmatisation.\"\"\"\u001b[39;00m\n\u001b[0;32m      <a href='vscode-notebook-cell:/c%3A/Users/cocog/OneDrive/Documents/ESILV/S9/Machine%20Learning%20NLP/ProjetNLP1/projet1.ipynb#W4sZmlsZQ%3D%3D?line=2'>3</a>\u001b[0m tag \u001b[39m=\u001b[39m nltk\u001b[39m.\u001b[39mpos_tag([word])[\u001b[39m0\u001b[39m][\u001b[39m1\u001b[39m][\u001b[39m0\u001b[39m]\u001b[39m.\u001b[39mupper()\n\u001b[1;32m----> <a href='vscode-notebook-cell:/c%3A/Users/cocog/OneDrive/Documents/ESILV/S9/Machine%20Learning%20NLP/ProjetNLP1/projet1.ipynb#W4sZmlsZQ%3D%3D?line=3'>4</a>\u001b[0m tag_dict \u001b[39m=\u001b[39m {\u001b[39m\"\u001b[39m\u001b[39mJ\u001b[39m\u001b[39m\"\u001b[39m: wordnet\u001b[39m.\u001b[39mADJ,\n\u001b[0;32m      <a href='vscode-notebook-cell:/c%3A/Users/cocog/OneDrive/Documents/ESILV/S9/Machine%20Learning%20NLP/ProjetNLP1/projet1.ipynb#W4sZmlsZQ%3D%3D?line=4'>5</a>\u001b[0m             \u001b[39m\"\u001b[39m\u001b[39mN\u001b[39m\u001b[39m\"\u001b[39m: wordnet\u001b[39m.\u001b[39mNOUN,\n\u001b[0;32m      <a href='vscode-notebook-cell:/c%3A/Users/cocog/OneDrive/Documents/ESILV/S9/Machine%20Learning%20NLP/ProjetNLP1/projet1.ipynb#W4sZmlsZQ%3D%3D?line=5'>6</a>\u001b[0m             \u001b[39m\"\u001b[39m\u001b[39mV\u001b[39m\u001b[39m\"\u001b[39m: wordnet\u001b[39m.\u001b[39mVERB,\n\u001b[0;32m      <a href='vscode-notebook-cell:/c%3A/Users/cocog/OneDrive/Documents/ESILV/S9/Machine%20Learning%20NLP/ProjetNLP1/projet1.ipynb#W4sZmlsZQ%3D%3D?line=6'>7</a>\u001b[0m             \u001b[39m\"\u001b[39m\u001b[39mR\u001b[39m\u001b[39m\"\u001b[39m: wordnet\u001b[39m.\u001b[39mADV}\n\u001b[0;32m      <a href='vscode-notebook-cell:/c%3A/Users/cocog/OneDrive/Documents/ESILV/S9/Machine%20Learning%20NLP/ProjetNLP1/projet1.ipynb#W4sZmlsZQ%3D%3D?line=7'>8</a>\u001b[0m \u001b[39mreturn\u001b[39;00m tag_dict\u001b[39m.\u001b[39mget(tag, wordnet\u001b[39m.\u001b[39mNOUN)\n",
      "\u001b[1;31mNameError\u001b[0m: name 'wordnet' is not defined"
     ]
    }
   ],
   "source": [
    "from nltk.stem import WordNetLemmatizer\n",
    "from nltk.tokenize import word_tokenize\n",
    "from nltk.corpus import stopwords\n",
    "\n",
    "lemmatizer = WordNetLemmatizer()\n",
    "stop_words = set(stopwords.words('english'))\n",
    "\n",
    "def get_wordnet_pos(word):\n",
    "    \"\"\"Map POS tag to first character lemmatize() accepts.\"\"\"\n",
    "    tag = nltk.pos_tag([word])[0][1][0].upper()\n",
    "    tag_dict = {\"J\": wordnet.ADJ,\n",
    "                \"N\": wordnet.NOUN,\n",
    "                \"V\": wordnet.VERB,\n",
    "                \"R\": wordnet.ADV}\n",
    "    return tag_dict.get(tag, wordnet.NOUN)\n",
    "\n",
    "def advanced_preprocess(text):\n",
    "    word_tokens = word_tokenize(text.lower())\n",
    "    filtered_words = [lemmatizer.lemmatize(w, get_wordnet_pos(w)) for w in word_tokens if w not in stop_words and len(w) > 2]\n",
    "    return filtered_words\n",
    "\n",
    "# Exemple de prétraitement d'un document\n",
    "sample_doc = dicDoc[list(dicDoc.keys())[0]]\n",
    "preprocessed_sample = advanced_preprocess(sample_doc)\n",
    "print(preprocessed_sample)\n"
   ]
  },
  {
   "cell_type": "code",
   "execution_count": 33,
   "metadata": {},
   "outputs": [],
   "source": [
    "from gensim.models import Word2Vec\n",
    "\n",
    "# Préparation des données pour Word2Vec\n",
    "corpus_for_word2vec = [advanced_preprocess(doc) for doc in dicDoc.values()]\n",
    "\n",
    "# Entraînement du modèle Word2Vec\n",
    "word2vec_model = Word2Vec(sentences=corpus_for_word2vec, vector_size=100, window=5, min_count=1, workers=4)\n"
   ]
  },
  {
   "cell_type": "code",
   "execution_count": 29,
   "metadata": {},
   "outputs": [],
   "source": [
    "from rank_bm25 import BM25Okapi\n",
    "\n",
    "# Préparation du corpus pour BM25\n",
    "tokenized_corpus = [advanced_preprocess(doc) for doc in dicDoc.values()]\n",
    "bm25 = BM25Okapi(tokenized_corpus)\n"
   ]
  },
  {
   "cell_type": "code",
   "execution_count": 34,
   "metadata": {},
   "outputs": [],
   "source": [
    "import numpy as np\n",
    "from sklearn.metrics.pairwise import cosine_similarity\n",
    "\n",
    "# Fonction pour créer un vecteur moyen à partir des embeddings d'un texte\n",
    "def vectorize_text(text, model):\n",
    "    return np.mean([model.wv[word] for word in text if word in model.wv] or [np.zeros(model.vector_size)], axis=0)\n",
    "\n",
    "# Exemple de calcul de la similarité pour une requête\n",
    "query_vector = vectorize_text(advanced_preprocess(dicReq[list(dicReq.keys())[0]]), word2vec_model)\n",
    "doc_vectors = np.array([vectorize_text(doc, word2vec_model) for doc in tokenized_corpus])\n",
    "\n",
    "# Calcul de la similarité cosinus pour un échantillon de requête\n",
    "cosine_similarities = cosine_similarity([query_vector], doc_vectors)\n"
   ]
  },
  {
   "cell_type": "code",
   "execution_count": 35,
   "metadata": {},
   "outputs": [],
   "source": [
    "def combine_scores(bm25_scores, cosine_similarities):\n",
    "    \"\"\"\n",
    "    Combine BM25 and cosine similarity scores.\n",
    "\n",
    "    :param bm25_scores: Scores from BM25 model.\n",
    "    :param cosine_similarities: Cosine similarity scores.\n",
    "    :return: Combined scores.\n",
    "    \"\"\"\n",
    "    # Ici, vous pouvez expérimenter avec différentes méthodes de combinaison\n",
    "    return (bm25_scores + cosine_similarities) / 2\n",
    "\n",
    "# Exemple de combinaison pour une requête\n",
    "sample_query = advanced_preprocess(dicReq[list(dicReq.keys())[0]])\n",
    "bm25_scores = bm25.get_scores(sample_query)\n",
    "# Assurez-vous que cosine_similarities est calculé et disponible ici\n",
    "combined_scores = combine_scores(bm25_scores, cosine_similarities[0])\n"
   ]
  },
  {
   "cell_type": "code",
   "execution_count": 39,
   "metadata": {},
   "outputs": [
    {
     "name": "stdout",
     "output_type": "stream",
     "text": [
      "NDCG Score: 1.0\n"
     ]
    }
   ],
   "source": [
    "from sklearn.metrics import ndcg_score\n",
    "\n",
    "\n",
    "sample_query = advanced_preprocess(dicReq[list(dicReq.keys())[0]])\n",
    "bm25_scores = bm25.get_scores(sample_query)\n",
    "combined_scores = combine_scores(bm25_scores, cosine_similarities[0])\n",
    "true_scores = [1, 1, 1, 1, 1]  \n",
    "combined_scores_reduced = combined_scores[:5]\n",
    "\n",
    "ndcg = ndcg_score([true_scores], [combined_scores_reduced])\n",
    "print(f\"NDCG Score: {ndcg}\")\n",
    "\n"
   ]
  },
  {
   "cell_type": "code",
   "execution_count": 38,
   "metadata": {},
   "outputs": [
    {
     "name": "stdout",
     "output_type": "stream",
     "text": [
      "True scores length: 5\n",
      "Combined scores length: 3193\n",
      "True scores shape: (1, 5)\n",
      "Combined scores shape: (1, 3193)\n"
     ]
    }
   ],
   "source": [
    "print(\"True scores length:\", len(true_scores))\n",
    "print(\"Combined scores length:\", len(combined_scores))\n",
    "print(\"True scores shape:\", np.array([true_scores]).shape)\n",
    "print(\"Combined scores shape:\", np.array([combined_scores]).shape)\n"
   ]
  }
 ],
 "metadata": {
  "kernelspec": {
   "display_name": "Python 3",
   "language": "python",
   "name": "python3"
  },
  "language_info": {
   "codemirror_mode": {
    "name": "ipython",
    "version": 3
   },
   "file_extension": ".py",
   "mimetype": "text/x-python",
   "name": "python",
   "nbconvert_exporter": "python",
   "pygments_lexer": "ipython3",
   "version": "3.11.1"
  }
 },
 "nbformat": 4,
 "nbformat_minor": 2
}
