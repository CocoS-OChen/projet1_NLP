{
 "cells": [
  {
   "cell_type": "code",
   "execution_count": 8,
   "metadata": {},
   "outputs": [],
   "source": [
    "import nltk\n",
    "from nltk.corpus import stopwords\n",
    "from nltk.tokenize import word_tokenize\n",
    "from nltk.stem import WordNetLemmatizer\n",
    "from collections import defaultdict\n",
    "import numpy as np\n",
    "from gensim.models import Word2Vec\n",
    "from nltk.corpus import wordnet\n",
    "from rank_bm25 import BM25Okapi\n",
    "from sklearn.metrics.pairwise import cosine_similarity\n",
    "from sklearn.metrics import ndcg_score"
   ]
  },
  {
   "cell_type": "code",
   "execution_count": 9,
   "metadata": {},
   "outputs": [],
   "source": [
    "# Clonage du répertoire Git contenant le corpus NFCorpus\n",
    "#!git clone https://github.com/cr-nlp/project1-2023.git"
   ]
  },
  {
   "cell_type": "code",
   "execution_count": 10,
   "metadata": {},
   "outputs": [
    {
     "name": "stderr",
     "output_type": "stream",
     "text": [
      "[nltk_data] Downloading package stopwords to\n",
      "[nltk_data]     C:\\Users\\cocog\\AppData\\Roaming\\nltk_data...\n",
      "[nltk_data]   Package stopwords is already up-to-date!\n",
      "[nltk_data] Downloading package punkt to\n",
      "[nltk_data]     C:\\Users\\cocog\\AppData\\Roaming\\nltk_data...\n",
      "[nltk_data]   Package punkt is already up-to-date!\n",
      "[nltk_data] Downloading package wordnet to\n",
      "[nltk_data]     C:\\Users\\cocog\\AppData\\Roaming\\nltk_data...\n",
      "[nltk_data]   Package wordnet is already up-to-date!\n",
      "[nltk_data] Downloading package averaged_perceptron_tagger to\n",
      "[nltk_data]     C:\\Users\\cocog\\AppData\\Roaming\\nltk_data...\n",
      "[nltk_data]   Package averaged_perceptron_tagger is already up-to-\n",
      "[nltk_data]       date!\n"
     ]
    }
   ],
   "source": [
    "# Téléchargement des ressources NLTK nécessaires\n",
    "nltk.download('stopwords')\n",
    "nltk.download('punkt')\n",
    "nltk.download('wordnet')\n",
    "nltk.download('averaged_perceptron_tagger')\n",
    "\n",
    "# Initialisation du lemmatiseur\n",
    "lemmatizer = WordNetLemmatizer()\n",
    "stop_words = set(stopwords.words('english'))"
   ]
  },
  {
   "cell_type": "code",
   "execution_count": 11,
   "metadata": {},
   "outputs": [],
   "source": [
    "\n",
    "\n",
    "def loadNFCorpus():\n",
    "    dir = \"./project1-2023/\"\n",
    "    \n",
    "    # Charger les documents\n",
    "    filename = dir + \"dev.docs\"\n",
    "    dicDoc = {}\n",
    "    with open(filename, encoding='utf-8') as file:\n",
    "        lines = file.readlines()\n",
    "    for line in lines:\n",
    "        tabLine = line.split('\\t')\n",
    "        key = tabLine[0]\n",
    "        value = tabLine[1]\n",
    "        dicDoc[key] = value\n",
    "\n",
    "    # Charger les requêtes\n",
    "    filename = dir + \"dev.all.queries\"\n",
    "    dicReq = {}\n",
    "    with open(filename, encoding='utf-8') as file:\n",
    "        lines = file.readlines()\n",
    "    for line in lines:\n",
    "        tabLine = line.split('\\t')\n",
    "        key = tabLine[0]\n",
    "        value = tabLine[1]\n",
    "        dicReq[key] = value\n",
    "\n",
    "    # Charger les scores de pertinence\n",
    "    filename = dir + \"dev.2-1-0.qrel\"\n",
    "    dicReqDoc = defaultdict(dict)\n",
    "    with open(filename, encoding='utf-8') as file:\n",
    "        lines = file.readlines()\n",
    "    for line in lines:\n",
    "        tabLine = line.strip().split('\\t')\n",
    "        req = tabLine[0]\n",
    "        doc = tabLine[2]\n",
    "        score = int(tabLine[3])\n",
    "        dicReqDoc[req][doc] = score\n",
    "\n",
    "    return dicDoc, dicReq, dicReqDoc\n",
    "\n",
    "def text2TokenList(text):\n",
    "    # Filtrage et lemmatisation des mots\n",
    "    stopwords_set = set(stopwords.words('english'))\n",
    "    word_tokens = word_tokenize(text.lower())\n",
    "    lemmatized_tokens = [\n",
    "        lemmatizer.lemmatize(word) for word in word_tokens\n",
    "        if word not in stopwords_set and len(word) > 2\n",
    "    ]\n",
    "    return lemmatized_tokens\n",
    "\n",
    "# Chargement du corpus NFCorpus\n",
    "dicDoc, dicReq, dicReqDoc = loadNFCorpus()\n"
   ]
  },
  {
   "cell_type": "code",
   "execution_count": 12,
   "metadata": {},
   "outputs": [
    {
     "name": "stdout",
     "output_type": "stream",
     "text": [
      "['alkylphenols', 'human', 'milk', 'relation', 'dietary', 'habit', 'central', 'taiwan', 'pubmed', 'ncbi', 'abstract', 'aim', 'study', 'determine', 'concentration', 'num', 'nonylphenol', 'num', 'octylphenol', 'num', 'human', 'milk', 'sample', 'examine', 'related', 'factor', 'include', 'mother', 'demographic', 'dietary', 'habit', 'woman', 'consume', 'median', 'amount', 'cooking', 'oil', 'significantly', 'high', 'concentration', 'num', 'ng/g', 'consume', 'num', 'ng/g', 'num', 'concentration', 'significantly', 'consumption', 'cooking', 'oil', 'beta', 'num', 'num', 'fish', 'oil', 'capsule', 'beta', 'num', 'num', 'adjustment', 'age', 'body', 'mass', 'index', 'bmi', 'concentration', 'significantly', 'consumption', 'fish', 'oil', 'capsule', 'beta', 'num', 'num', 'process', 'fish', 'product', 'beta', 'num', 'num', 'food', 'pattern', 'cooking', 'oil', 'process', 'meat', 'product', 'factor', 'analysis', 'strongly', 'concentration', 'human', 'milk', 'num', 'determination', 'aid', 'suggest', 'food', 'consumption', 'nursing', 'mother', 'order', 'protect', 'infant', 'np/op', 'exposure', 'num', 'elsevier', 'right', 'reserve']\n"
     ]
    }
   ],
   "source": [
    "from nltk.stem import WordNetLemmatizer\n",
    "from nltk.tokenize import word_tokenize\n",
    "from nltk.corpus import stopwords\n",
    "\n",
    "lemmatizer = WordNetLemmatizer()\n",
    "stop_words = set(stopwords.words('english'))\n",
    "\n",
    "def get_wordnet_pos(word):\n",
    "    \"\"\"Map POS tag to first character lemmatize() accepts.\"\"\"\n",
    "    tag = nltk.pos_tag([word])[0][1][0].upper()\n",
    "    tag_dict = {\"J\": wordnet.ADJ,\n",
    "                \"N\": wordnet.NOUN,\n",
    "                \"V\": wordnet.VERB,\n",
    "                \"R\": wordnet.ADV}\n",
    "    return tag_dict.get(tag, wordnet.NOUN)\n",
    "\n",
    "def advanced_preprocess(text):\n",
    "    word_tokens = word_tokenize(text.lower())\n",
    "    filtered_words = [lemmatizer.lemmatize(w, get_wordnet_pos(w)) for w in word_tokens if w not in stop_words and len(w) > 2]\n",
    "    return filtered_words\n",
    "\n",
    "sample_doc = dicDoc[list(dicDoc.keys())[0]]\n",
    "preprocessed_sample = advanced_preprocess(sample_doc)\n",
    "print(preprocessed_sample)\n"
   ]
  },
  {
   "cell_type": "code",
   "execution_count": 13,
   "metadata": {},
   "outputs": [],
   "source": [
    "from gensim.models import Word2Vec\n",
    "\n",
    "# Préparation des données pour Word2Vec\n",
    "corpus_for_word2vec = [advanced_preprocess(doc) for doc in dicDoc.values()]\n",
    "\n",
    "# Entraînement du modèle Word2Vec\n",
    "word2vec_model = Word2Vec(sentences=corpus_for_word2vec, vector_size=100, window=5, min_count=1, workers=4)\n"
   ]
  },
  {
   "cell_type": "code",
   "execution_count": 14,
   "metadata": {},
   "outputs": [],
   "source": [
    "from rank_bm25 import BM25Okapi\n",
    "\n",
    "# Préparation du corpus pour BM25\n",
    "tokenized_corpus = [advanced_preprocess(doc) for doc in dicDoc.values()]\n",
    "bm25 = BM25Okapi(tokenized_corpus)\n"
   ]
  },
  {
   "cell_type": "code",
   "execution_count": null,
   "metadata": {},
   "outputs": [],
   "source": [
    "import numpy as np\n",
    "from sklearn.metrics.pairwise import cosine_similarity\n",
    "\n",
    "# Fonction pour créer un vecteur moyen à partir des embeddings d'un texte\n",
    "def vectorize_text(text, model):\n",
    "    return np.mean([model.wv[word] for word in text if word in model.wv] or [np.zeros(model.vector_size)], axis=0)\n",
    "\n",
    "# Exemple de calcul de la similarité pour une requête\n",
    "query_vector = vectorize_text(advanced_preprocess(dicReq[list(dicReq.keys())[0]]), word2vec_model)\n",
    "doc_vectors = np.array([vectorize_text(doc, word2vec_model) for doc in tokenized_corpus])\n",
    "\n",
    "# Calcul de la similarité cosinus pour un échantillon de requête\n",
    "cosine_similarities = cosine_similarity([query_vector], doc_vectors)\n"
   ]
  },
  {
   "cell_type": "code",
   "execution_count": null,
   "metadata": {},
   "outputs": [],
   "source": [
    "def combine_scores(bm25_scores, cosine_similarities, alpha=0.5):\n",
    "    combined_scores = alpha * bm25_scores + (1 - alpha) * cosine_similarities\n",
    "    return combined_scores\n",
    "\n",
    "def calculate_true_scores(query_id, dicReqDoc):\n",
    "    relevant_docs = dicReqDoc[query_id]\n",
    "    true_scores = [relevant_docs[doc_id] if doc_id in relevant_docs else 0 for doc_id in dicDoc.keys()]\n",
    "    return true_scores\n",
    "\n",
    "\n"
   ]
  },
  {
   "cell_type": "code",
   "execution_count": null,
   "metadata": {},
   "outputs": [
    {
     "name": "stdout",
     "output_type": "stream",
     "text": [
      "NDCG Score: 1.0\n"
     ]
    }
   ],
   "source": [
    "sample_query_id = list(dicReq.keys())[0]\n",
    "sample_query = advanced_preprocess(dicReq[sample_query_id])\n",
    "bm25_scores = bm25.get_scores(sample_query)\n",
    "\n",
    "query_vector = vectorize_text(sample_query, word2vec_model)\n",
    "doc_vectors = np.array([vectorize_text(doc, word2vec_model) for doc in tokenized_corpus])\n",
    "cosine_similarities = cosine_similarity([query_vector], doc_vectors)[0]\n",
    "\n",
    "combined_scores = combine_scores(bm25_scores, cosine_similarities, alpha=0.5)"
   ]
  },
  {
   "cell_type": "code",
   "execution_count": null,
   "metadata": {},
   "outputs": [
    {
     "name": "stdout",
     "output_type": "stream",
     "text": [
      "True scores length: 5\n",
      "Combined scores length: 3193\n",
      "True scores shape: (1, 5)\n",
      "Combined scores shape: (1, 3193)\n"
     ]
    }
   ],
   "source": [
    "true_scores = calculate_true_scores(sample_query_id, dicReqDoc)\n",
    "\n",
    "combined_scores_reduced = combined_scores[:len(true_scores)]\n",
    "\n",
    "sorted_indices = np.argsort(-combined_scores_reduced)\n",
    "sorted_true_scores = np.array(true_scores)[sorted_indices]\n",
    "sorted_combined_scores = combined_scores_reduced[sorted_indices]"
   ]
  },
  {
   "cell_type": "code",
   "execution_count": null,
   "metadata": {},
   "outputs": [],
   "source": [
    "ndcg = ndcg_score([sorted_true_scores], [sorted_combined_scores])\n",
    "print(f\"NDCG Score: {ndcg}\")\n",
    "\n",
    "print(\"True scores length:\", len(true_scores))\n",
    "print(\"Combined scores length:\", len(combined_scores))\n",
    "print(\"True scores shape:\", np.array([true_scores]).shape)\n",
    "print(\"Combined scores shape:\", np.array([combined_scores]).shape)\n"
   ]
  }
 ],
 "metadata": {
  "kernelspec": {
   "display_name": "Python 3",
   "language": "python",
   "name": "python3"
  },
  "language_info": {
   "codemirror_mode": {
    "name": "ipython",
    "version": 3
   },
   "file_extension": ".py",
   "mimetype": "text/x-python",
   "name": "python",
   "nbconvert_exporter": "python",
   "pygments_lexer": "ipython3",
   "version": "3.11.1"
  }
 },
 "nbformat": 4,
 "nbformat_minor": 2
}
